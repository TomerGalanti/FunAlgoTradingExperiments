{
 "cells": [
  {
   "cell_type": "code",
   "execution_count": 2,
   "metadata": {},
   "outputs": [],
   "source": [
    "import yfinance as yf\n",
    "import mplfinance as mpf\n",
    "import pandas as pd\n",
    "import matplotlib.pyplot as plt\n",
    "import backtesters\n",
    "import strategies as strg"
   ]
  },
  {
   "cell_type": "code",
   "execution_count": 3,
   "metadata": {},
   "outputs": [],
   "source": [
    "def plot_with_transactions(stock_name, start_date, end_date, strategy_fn):\n",
    "        data, _ = backtesters.backtest(stock_name, start_date, end_date, strategy_fn)\n",
    "\n",
    "        # Define the plot style\n",
    "        mc = mpf.make_marketcolors(up='green', down='red', inherit=True)\n",
    "        s  = mpf.make_mpf_style(base_mpf_style='nightclouds', marketcolors=mc)\n",
    "\n",
    "        # Define addplots for SMA, Purchase markers, and Sell markers\n",
    "        name = f'MVG_{window_length}'\n",
    "        apds = [mpf.make_addplot(data[name], color='blue', width=1.2),\n",
    "                mpf.make_addplot(data['Purchases'], type='scatter', markersize=10, marker='o', color='orange'),\n",
    "                mpf.make_addplot(data['Sales'], type='scatter', markersize=10, marker='o', color='purple')]\n",
    "\n",
    "        mpf.plot(data, type='candle', style=s, addplot=apds, title=f\"{ticker} Candlestick Chart with MVG, Purchases, and Sales\",\n",
    "             ylabel='Price ($)', volume=True)\n"
   ]
  },
  {
   "cell_type": "code",
   "execution_count": 3,
   "metadata": {},
   "outputs": [
    {
     "ename": "NameError",
     "evalue": "name 'strg' is not defined",
     "output_type": "error",
     "traceback": [
      "\u001b[0;31m---------------------------------------------------------------------------\u001b[0m",
      "\u001b[0;31mNameError\u001b[0m                                 Traceback (most recent call last)",
      "Cell \u001b[0;32mIn[3], line 5\u001b[0m\n\u001b[1;32m      3\u001b[0m start_date \u001b[38;5;241m=\u001b[39m \u001b[38;5;124m'\u001b[39m\u001b[38;5;124m2020-01-01\u001b[39m\u001b[38;5;124m'\u001b[39m\n\u001b[1;32m      4\u001b[0m end_date \u001b[38;5;241m=\u001b[39m \u001b[38;5;124m'\u001b[39m\u001b[38;5;124m2023-01-01\u001b[39m\u001b[38;5;124m'\u001b[39m\n\u001b[0;32m----> 5\u001b[0m strategy_fn \u001b[38;5;241m=\u001b[39m \u001b[43mstrg\u001b[49m\u001b[38;5;241m.\u001b[39mbullish_engulfing_strategy\n\u001b[1;32m      6\u001b[0m plot_with_transactions(ticker, start_date, end_date, strategy_fn)\n",
      "\u001b[0;31mNameError\u001b[0m: name 'strg' is not defined"
     ]
    }
   ],
   "source": [
    "# Example usage\n",
    "ticker = 'AAPL'\n",
    "start_date = '2020-01-01'\n",
    "end_date = '2023-01-01'\n",
    "strategy_fn = strg.bullish_engulfing_strategy\n",
    "plot_with_transactions(ticker, start_date, end_date, strategy_fn)"
   ]
  },
  {
   "cell_type": "code",
   "execution_count": null,
   "metadata": {},
   "outputs": [],
   "source": []
  }
 ],
 "metadata": {
  "kernelspec": {
   "display_name": "Python 3 (ipykernel)",
   "language": "python",
   "name": "python3"
  },
  "language_info": {
   "codemirror_mode": {
    "name": "ipython",
    "version": 3
   },
   "file_extension": ".py",
   "mimetype": "text/x-python",
   "name": "python",
   "nbconvert_exporter": "python",
   "pygments_lexer": "ipython3",
   "version": "3.9.19"
  }
 },
 "nbformat": 4,
 "nbformat_minor": 4
}
